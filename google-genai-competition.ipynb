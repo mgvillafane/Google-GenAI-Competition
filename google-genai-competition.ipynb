{
 "cells": [
  {
   "cell_type": "markdown",
   "id": "cc2087cc",
   "metadata": {
    "papermill": {
     "duration": 0.003824,
     "end_time": "2025-04-07T20:09:18.978619",
     "exception": false,
     "start_time": "2025-04-07T20:09:18.974795",
     "status": "completed"
    },
    "tags": []
   },
   "source": [
    "## Setup"
   ]
  },
  {
   "cell_type": "code",
   "execution_count": 1,
   "id": "ba0bd26c",
   "metadata": {
    "execution": {
     "iopub.execute_input": "2025-04-07T20:09:18.987023Z",
     "iopub.status.busy": "2025-04-07T20:09:18.986535Z",
     "iopub.status.idle": "2025-04-07T20:10:07.433902Z",
     "shell.execute_reply": "2025-04-07T20:10:07.432928Z"
    },
    "papermill": {
     "duration": 48.453722,
     "end_time": "2025-04-07T20:10:07.435894",
     "exception": false,
     "start_time": "2025-04-07T20:09:18.982172",
     "status": "completed"
    },
    "tags": []
   },
   "outputs": [
    {
     "name": "stdout",
     "output_type": "stream",
     "text": [
      "\u001b[33mWARNING: Skipping kfp as it is not installed.\u001b[0m\u001b[33m\r\n",
      "\u001b[2K     \u001b[90m━━━━━━━━━━━━━━━━━━━━━━━━━━━━━━━━━━━━━━━━\u001b[0m \u001b[32m67.3/67.3 kB\u001b[0m \u001b[31m3.2 MB/s\u001b[0m eta \u001b[36m0:00:00\u001b[0m\r\n",
      "\u001b[?25h  Installing build dependencies ... \u001b[?25l\u001b[?25hdone\r\n",
      "  Getting requirements to build wheel ... \u001b[?25l\u001b[?25hdone\r\n",
      "  Preparing metadata (pyproject.toml) ... \u001b[?25l\u001b[?25hdone\r\n",
      "\u001b[2K   \u001b[90m━━━━━━━━━━━━━━━━━━━━━━━━━━━━━━━━━━━━━━━━\u001b[0m \u001b[32m144.7/144.7 kB\u001b[0m \u001b[31m7.0 MB/s\u001b[0m eta \u001b[36m0:00:00\u001b[0m\r\n",
      "\u001b[2K   \u001b[90m━━━━━━━━━━━━━━━━━━━━━━━━━━━━━━━━━━━━━━━━\u001b[0m \u001b[32m611.1/611.1 kB\u001b[0m \u001b[31m22.8 MB/s\u001b[0m eta \u001b[36m0:00:00\u001b[0m\r\n",
      "\u001b[2K   \u001b[90m━━━━━━━━━━━━━━━━━━━━━━━━━━━━━━━━━━━━━━━━\u001b[0m \u001b[32m2.4/2.4 MB\u001b[0m \u001b[31m35.0 MB/s\u001b[0m eta \u001b[36m0:00:00\u001b[0m\r\n",
      "\u001b[2K   \u001b[90m━━━━━━━━━━━━━━━━━━━━━━━━━━━━━━━━━━━━━━━━\u001b[0m \u001b[32m100.9/100.9 kB\u001b[0m \u001b[31m4.0 MB/s\u001b[0m eta \u001b[36m0:00:00\u001b[0m\r\n",
      "\u001b[2K   \u001b[90m━━━━━━━━━━━━━━━━━━━━━━━━━━━━━━━━━━━━━━━━\u001b[0m \u001b[32m284.2/284.2 kB\u001b[0m \u001b[31m11.5 MB/s\u001b[0m eta \u001b[36m0:00:00\u001b[0m\r\n",
      "\u001b[2K   \u001b[90m━━━━━━━━━━━━━━━━━━━━━━━━━━━━━━━━━━━━━━━━\u001b[0m \u001b[32m95.2/95.2 kB\u001b[0m \u001b[31m4.1 MB/s\u001b[0m eta \u001b[36m0:00:00\u001b[0m\r\n",
      "\u001b[2K   \u001b[90m━━━━━━━━━━━━━━━━━━━━━━━━━━━━━━━━━━━━━━━━\u001b[0m \u001b[32m2.0/2.0 MB\u001b[0m \u001b[31m54.0 MB/s\u001b[0m eta \u001b[36m0:00:00\u001b[0m\r\n",
      "\u001b[2K   \u001b[90m━━━━━━━━━━━━━━━━━━━━━━━━━━━━━━━━━━━━━━━━\u001b[0m \u001b[32m99.2/99.2 kB\u001b[0m \u001b[31m4.0 MB/s\u001b[0m eta \u001b[36m0:00:00\u001b[0m\r\n",
      "\u001b[2K   \u001b[90m━━━━━━━━━━━━━━━━━━━━━━━━━━━━━━━━━━━━━━━━\u001b[0m \u001b[32m16.0/16.0 MB\u001b[0m \u001b[31m77.8 MB/s\u001b[0m eta \u001b[36m0:00:00\u001b[0m\r\n",
      "\u001b[2K   \u001b[90m━━━━━━━━━━━━━━━━━━━━━━━━━━━━━━━━━━━━━━━━\u001b[0m \u001b[32m55.9/55.9 kB\u001b[0m \u001b[31m2.1 MB/s\u001b[0m eta \u001b[36m0:00:00\u001b[0m\r\n",
      "\u001b[2K   \u001b[90m━━━━━━━━━━━━━━━━━━━━━━━━━━━━━━━━━━━━━━━━\u001b[0m \u001b[32m183.4/183.4 kB\u001b[0m \u001b[31m8.1 MB/s\u001b[0m eta \u001b[36m0:00:00\u001b[0m\r\n",
      "\u001b[2K   \u001b[90m━━━━━━━━━━━━━━━━━━━━━━━━━━━━━━━━━━━━━━━━\u001b[0m \u001b[32m65.2/65.2 kB\u001b[0m \u001b[31m3.2 MB/s\u001b[0m eta \u001b[36m0:00:00\u001b[0m\r\n",
      "\u001b[2K   \u001b[90m━━━━━━━━━━━━━━━━━━━━━━━━━━━━━━━━━━━━━━━━\u001b[0m \u001b[32m118.9/118.9 kB\u001b[0m \u001b[31m3.7 MB/s\u001b[0m eta \u001b[36m0:00:00\u001b[0m\r\n",
      "\u001b[2K   \u001b[90m━━━━━━━━━━━━━━━━━━━━━━━━━━━━━━━━━━━━━━━━\u001b[0m \u001b[32m85.0/85.0 kB\u001b[0m \u001b[31m3.9 MB/s\u001b[0m eta \u001b[36m0:00:00\u001b[0m\r\n",
      "\u001b[2K   \u001b[90m━━━━━━━━━━━━━━━━━━━━━━━━━━━━━━━━━━━━━━━━\u001b[0m \u001b[32m62.3/62.3 kB\u001b[0m \u001b[31m2.6 MB/s\u001b[0m eta \u001b[36m0:00:00\u001b[0m\r\n",
      "\u001b[2K   \u001b[90m━━━━━━━━━━━━━━━━━━━━━━━━━━━━━━━━━━━━━━━━\u001b[0m \u001b[32m442.1/442.1 kB\u001b[0m \u001b[31m18.9 MB/s\u001b[0m eta \u001b[36m0:00:00\u001b[0m\r\n",
      "\u001b[2K   \u001b[90m━━━━━━━━━━━━━━━━━━━━━━━━━━━━━━━━━━━━━━━━\u001b[0m \u001b[32m319.7/319.7 kB\u001b[0m \u001b[31m14.0 MB/s\u001b[0m eta \u001b[36m0:00:00\u001b[0m\r\n",
      "\u001b[2K   \u001b[90m━━━━━━━━━━━━━━━━━━━━━━━━━━━━━━━━━━━━━━━━\u001b[0m \u001b[32m72.0/72.0 kB\u001b[0m \u001b[31m3.5 MB/s\u001b[0m eta \u001b[36m0:00:00\u001b[0m\r\n",
      "\u001b[2K   \u001b[90m━━━━━━━━━━━━━━━━━━━━━━━━━━━━━━━━━━━━━━━━\u001b[0m \u001b[32m3.8/3.8 MB\u001b[0m \u001b[31m64.1 MB/s\u001b[0m eta \u001b[36m0:00:00\u001b[0m\r\n",
      "\u001b[2K   \u001b[90m━━━━━━━━━━━━━━━━━━━━━━━━━━━━━━━━━━━━━━━━\u001b[0m \u001b[32m452.9/452.9 kB\u001b[0m \u001b[31m20.7 MB/s\u001b[0m eta \u001b[36m0:00:00\u001b[0m\r\n",
      "\u001b[2K   \u001b[90m━━━━━━━━━━━━━━━━━━━━━━━━━━━━━━━━━━━━━━━━\u001b[0m \u001b[32m46.0/46.0 kB\u001b[0m \u001b[31m1.9 MB/s\u001b[0m eta \u001b[36m0:00:00\u001b[0m\r\n",
      "\u001b[2K   \u001b[90m━━━━━━━━━━━━━━━━━━━━━━━━━━━━━━━━━━━━━━━━\u001b[0m \u001b[32m86.8/86.8 kB\u001b[0m \u001b[31m4.0 MB/s\u001b[0m eta \u001b[36m0:00:00\u001b[0m\r\n",
      "\u001b[?25h  Building wheel for pypika (pyproject.toml) ... \u001b[?25l\u001b[?25hdone\r\n",
      "\u001b[31mERROR: pip's dependency resolver does not currently take into account all the packages that are installed. This behaviour is the source of the following dependency conflicts.\r\n",
      "google-api-core 1.34.1 requires protobuf!=3.20.0,!=3.20.1,!=4.21.0,!=4.21.1,!=4.21.2,!=4.21.3,!=4.21.4,!=4.21.5,<4.0.0dev,>=3.19.5, but you have protobuf 5.29.4 which is incompatible.\r\n",
      "google-cloud-bigtable 2.27.0 requires google-api-core[grpc]<3.0.0dev,>=2.16.0, but you have google-api-core 1.34.1 which is incompatible.\r\n",
      "google-cloud-translate 3.12.1 requires protobuf!=3.20.0,!=3.20.1,!=4.21.0,!=4.21.1,!=4.21.2,!=4.21.3,!=4.21.4,!=4.21.5,<5.0.0dev,>=3.19.5, but you have protobuf 5.29.4 which is incompatible.\r\n",
      "pandas-gbq 0.25.0 requires google-api-core<3.0.0dev,>=2.10.2, but you have google-api-core 1.34.1 which is incompatible.\r\n",
      "tensorflow 2.17.1 requires protobuf!=4.21.0,!=4.21.1,!=4.21.2,!=4.21.3,!=4.21.4,!=4.21.5,<5.0.0dev,>=3.20.3, but you have protobuf 5.29.4 which is incompatible.\r\n",
      "tensorflow-decision-forests 1.10.0 requires tensorflow==2.17.0, but you have tensorflow 2.17.1 which is incompatible.\r\n",
      "tensorflow-metadata 1.13.1 requires protobuf<5,>=3.20.3, but you have protobuf 5.29.4 which is incompatible.\u001b[0m\u001b[31m\r\n",
      "\u001b[0m"
     ]
    }
   ],
   "source": [
    "!pip uninstall -qqy jupyterlab kfp  # Remove unused conflicting packages\n",
    "!pip install -qU \"google-genai==1.7.0\" \"chromadb==0.6.3\"\n",
    "\n",
    "import json\n",
    "\n",
    "from google import genai\n",
    "from google.genai import types\n",
    "\n",
    "from IPython.display import Markdown\n",
    "\n",
    "\n",
    "\n"
   ]
  },
  {
   "cell_type": "code",
   "execution_count": 2,
   "id": "e490a6a8",
   "metadata": {
    "execution": {
     "iopub.execute_input": "2025-04-07T20:10:07.448496Z",
     "iopub.status.busy": "2025-04-07T20:10:07.447905Z",
     "iopub.status.idle": "2025-04-07T20:10:08.527419Z",
     "shell.execute_reply": "2025-04-07T20:10:08.525934Z"
    },
    "papermill": {
     "duration": 1.087849,
     "end_time": "2025-04-07T20:10:08.529280",
     "exception": false,
     "start_time": "2025-04-07T20:10:07.441431",
     "status": "completed"
    },
    "tags": []
   },
   "outputs": [
    {
     "name": "stdout",
     "output_type": "stream",
     "text": [
      "models/embedding-001\n",
      "models/text-embedding-004\n",
      "models/gemini-embedding-exp-03-07\n",
      "models/gemini-embedding-exp\n"
     ]
    }
   ],
   "source": [
    "# API keys\n",
    "from kaggle_secrets import UserSecretsClient\n",
    "\n",
    "GOOGLE_API_KEY = UserSecretsClient().get_secret(\"GOOGLE_API_KEY\")\n",
    "client = genai.Client(api_key=GOOGLE_API_KEY)\n",
    "\n",
    "for m in client.models.list():\n",
    "    if \"embedContent\" in m.supported_actions:\n",
    "        print(m.name)"
   ]
  },
  {
   "cell_type": "markdown",
   "id": "42937606",
   "metadata": {
    "papermill": {
     "duration": 0.005198,
     "end_time": "2025-04-07T20:10:08.540310",
     "exception": false,
     "start_time": "2025-04-07T20:10:08.535112",
     "status": "completed"
    },
    "tags": []
   },
   "source": [
    "We import the arxiv data and then perform vector embedding of all the documents"
   ]
  },
  {
   "cell_type": "code",
   "execution_count": 3,
   "id": "5cba43a5",
   "metadata": {
    "execution": {
     "iopub.execute_input": "2025-04-07T20:10:08.553328Z",
     "iopub.status.busy": "2025-04-07T20:10:08.553006Z",
     "iopub.status.idle": "2025-04-07T20:11:13.031740Z",
     "shell.execute_reply": "2025-04-07T20:11:13.030590Z"
    },
    "papermill": {
     "duration": 64.491155,
     "end_time": "2025-04-07T20:11:13.037712",
     "exception": false,
     "start_time": "2025-04-07T20:10:08.546557",
     "status": "completed"
    },
    "tags": []
   },
   "outputs": [
    {
     "name": "stdout",
     "output_type": "stream",
     "text": [
      "Headers: ['id', 'submitter', 'authors', 'title', 'comments', 'journal-ref', 'doi', 'report-no', 'categories', 'license', 'abstract', 'versions', 'update_date', 'authors_parsed']\n"
     ]
    }
   ],
   "source": [
    "\n",
    "index=0\n",
    "papers = []\n",
    "with open('/kaggle/input/arxiv/arxiv-metadata-oai-snapshot.json', 'r') as file:\n",
    "    for line in file:\n",
    "        index += 1\n",
    "        if index < 1000:\n",
    "            papers.append(json.loads(line))\n",
    "\n",
    "# Now data is a list of dictionaries\n",
    "print(\"Headers:\", list(papers[0].keys()))"
   ]
  },
  {
   "cell_type": "code",
   "execution_count": 4,
   "id": "fe72a9b9",
   "metadata": {
    "execution": {
     "iopub.execute_input": "2025-04-07T20:11:13.049947Z",
     "iopub.status.busy": "2025-04-07T20:11:13.049602Z",
     "iopub.status.idle": "2025-04-07T20:11:13.059042Z",
     "shell.execute_reply": "2025-04-07T20:11:13.057682Z"
    },
    "papermill": {
     "duration": 0.01751,
     "end_time": "2025-04-07T20:11:13.060606",
     "exception": false,
     "start_time": "2025-04-07T20:11:13.043096",
     "status": "completed"
    },
    "tags": []
   },
   "outputs": [
    {
     "name": "stdout",
     "output_type": "stream",
     "text": [
      "PAPER TITLE: Calculation of prompt diphoton production cross sections at Tevatron and   LHC energies\n",
      "PAPER CONTENT:   A fully differential calculation in perturbative quantum chromodynamics is presented for the production of massive photon pairs at hadron colliders. All next-to-leading order perturbative contributions from quark-antiquark, gluon-(anti)quark, and gluon-gluon subprocesses are included, as well as all-orders resummation of initial-state gluon radiation valid at next-to-next-to-leading logarithmic accuracy. The region of phase space is specified in which the calculation is most reliable. Good agreement is demonstrated with data from the Fermilab Tevatron, and predictions are made for more detailed tests with CDF and DO data. Predictions are shown for distributions of diphoton pairs produced at the energy of the Large Hadron Collider (LHC). Distributions of the diphoton pairs from the decay of a Higgs boson are contrasted with those produced from QCD processes at the LHC, showing that enhanced sensitivity to the signal can be obtained with judicious selection of events. \n"
     ]
    }
   ],
   "source": [
    "def remove_newlines(obj):\n",
    "    if isinstance(obj, str):\n",
    "        return obj.replace('\\n', ' ')\n",
    "        \n",
    "preprocessed_papers = []\n",
    "for paper in papers:\n",
    "    preprocessed_papers.append(\"PAPER TITLE: \" + remove_newlines(paper[\"title\"]) + \"\\nPAPER CONTENT: \"+ remove_newlines(paper[\"abstract\"]))\n",
    "print(preprocessed_papers[0])"
   ]
  },
  {
   "cell_type": "code",
   "execution_count": 5,
   "id": "0aa89040",
   "metadata": {
    "execution": {
     "iopub.execute_input": "2025-04-07T20:11:13.072835Z",
     "iopub.status.busy": "2025-04-07T20:11:13.072390Z",
     "iopub.status.idle": "2025-04-07T20:11:14.664573Z",
     "shell.execute_reply": "2025-04-07T20:11:14.663373Z"
    },
    "papermill": {
     "duration": 1.600517,
     "end_time": "2025-04-07T20:11:14.666635",
     "exception": false,
     "start_time": "2025-04-07T20:11:13.066118",
     "status": "completed"
    },
    "tags": []
   },
   "outputs": [],
   "source": [
    "test = preprocessed_papers[:99]\n",
    "papers_embedded = client.models.embed_content(\n",
    "    model='models/text-embedding-004',\n",
    "    contents=test,\n",
    "    config=types.EmbedContentConfig(task_type='SEMANTIC_SIMILARITY'))"
   ]
  },
  {
   "cell_type": "code",
   "execution_count": 6,
   "id": "ddbe6b07",
   "metadata": {
    "execution": {
     "iopub.execute_input": "2025-04-07T20:11:14.679447Z",
     "iopub.status.busy": "2025-04-07T20:11:14.679090Z",
     "iopub.status.idle": "2025-04-07T20:11:30.598953Z",
     "shell.execute_reply": "2025-04-07T20:11:30.597384Z"
    },
    "papermill": {
     "duration": 15.928701,
     "end_time": "2025-04-07T20:11:30.601090",
     "exception": false,
     "start_time": "2025-04-07T20:11:14.672389",
     "status": "completed"
    },
    "tags": []
   },
   "outputs": [],
   "source": [
    "def batch(iterable, n=100):\n",
    "    for i in range(0, len(iterable), n):\n",
    "        yield iterable[i:i + n]\n",
    "\n",
    "# Example usage:\n",
    "papers_embedded = []  # Your list of inputs to embed\n",
    "papers_batches = list(batch(preprocessed_papers, 100))\n",
    "\n",
    "for batch in papers_batches:\n",
    "    batch_embedded = client.models.embed_content(\n",
    "        model='models/text-embedding-004',\n",
    "        contents=batch,\n",
    "        config=types.EmbedContentConfig(task_type='SEMANTIC_SIMILARITY'))\n",
    "    list_batch_embedded = [e.values for e in batch_embedded.embeddings]\n",
    "    papers_embedded+=list_batch_embedded"
   ]
  },
  {
   "cell_type": "code",
   "execution_count": 7,
   "id": "dc2e35c1",
   "metadata": {
    "execution": {
     "iopub.execute_input": "2025-04-07T20:11:30.616761Z",
     "iopub.status.busy": "2025-04-07T20:11:30.616294Z",
     "iopub.status.idle": "2025-04-07T20:11:30.622794Z",
     "shell.execute_reply": "2025-04-07T20:11:30.621159Z"
    },
    "papermill": {
     "duration": 0.017452,
     "end_time": "2025-04-07T20:11:30.625285",
     "exception": false,
     "start_time": "2025-04-07T20:11:30.607833",
     "status": "completed"
    },
    "tags": []
   },
   "outputs": [
    {
     "name": "stdout",
     "output_type": "stream",
     "text": [
      "999\n"
     ]
    }
   ],
   "source": [
    "print(len(papers_embedded))"
   ]
  },
  {
   "cell_type": "code",
   "execution_count": 8,
   "id": "cada8d2c",
   "metadata": {
    "execution": {
     "iopub.execute_input": "2025-04-07T20:11:30.645873Z",
     "iopub.status.busy": "2025-04-07T20:11:30.645334Z",
     "iopub.status.idle": "2025-04-07T20:11:33.648671Z",
     "shell.execute_reply": "2025-04-07T20:11:33.647607Z"
    },
    "papermill": {
     "duration": 3.012673,
     "end_time": "2025-04-07T20:11:33.650554",
     "exception": false,
     "start_time": "2025-04-07T20:11:30.637881",
     "status": "completed"
    },
    "tags": []
   },
   "outputs": [],
   "source": [
    "import chromadb\n",
    "from chromadb.utils import embedding_functions\n",
    "\n",
    "# Start ChromaDB client\n",
    "chromadb_client = chromadb.Client()\n",
    "\n",
    "# Create or get a collection\n",
    "collection = chromadb_client.get_or_create_collection(name=\"papers\")\n",
    "\n",
    "# Add the documents + embeddings to Chroma\n",
    "collection.add(\n",
    "    documents=preprocessed_papers,\n",
    "    embeddings=papers_embedded,\n",
    "    ids=[f\"doc_{i}\" for i in range(len(preprocessed_papers))],\n",
    ")"
   ]
  },
  {
   "cell_type": "code",
   "execution_count": 9,
   "id": "89f76365",
   "metadata": {
    "execution": {
     "iopub.execute_input": "2025-04-07T20:11:33.663531Z",
     "iopub.status.busy": "2025-04-07T20:11:33.662996Z",
     "iopub.status.idle": "2025-04-07T20:11:33.940246Z",
     "shell.execute_reply": "2025-04-07T20:11:33.939255Z"
    },
    "papermill": {
     "duration": 0.285669,
     "end_time": "2025-04-07T20:11:33.942079",
     "exception": false,
     "start_time": "2025-04-07T20:11:33.656410",
     "status": "completed"
    },
    "tags": []
   },
   "outputs": [],
   "source": [
    "query_input = \"AI in medicine is advancing rapidly.\"\n",
    "\n",
    "query_embedding = client.models.embed_content(\n",
    "    model='models/text-embedding-004',\n",
    "    contents=query_input,\n",
    "    config=types.EmbedContentConfig(task_type='semantic_similarity')\n",
    ")"
   ]
  },
  {
   "cell_type": "code",
   "execution_count": 10,
   "id": "1f692074",
   "metadata": {
    "execution": {
     "iopub.execute_input": "2025-04-07T20:11:33.954586Z",
     "iopub.status.busy": "2025-04-07T20:11:33.954201Z",
     "iopub.status.idle": "2025-04-07T20:11:33.960374Z",
     "shell.execute_reply": "2025-04-07T20:11:33.959121Z"
    },
    "papermill": {
     "duration": 0.014495,
     "end_time": "2025-04-07T20:11:33.962251",
     "exception": false,
     "start_time": "2025-04-07T20:11:33.947756",
     "status": "completed"
    },
    "tags": []
   },
   "outputs": [
    {
     "name": "stdout",
     "output_type": "stream",
     "text": [
      "[-0.0072084945, 0.032835763, -0.0076321694, 0.0441256, 0.014222593, 0.080331065, -0.009582624, 0.0478988, -0.015623617, -0.020880362, -0.018681057, 0.116436474, -0.020217746, 0.07474686, 0.059561577, 0.0021396584, 0.054528337, 0.025532307, -0.07986759, 0.010551534, -0.024767349, -0.029090183, 0.0069016227, -0.010615683, -0.037870336, -0.011856086, 0.013498534, -0.03406914, 0.043679215, -0.01100847, 0.037547767, 0.019760754, 0.027061056, -0.07858725, 0.042850535, 0.012470506, -0.005259861, -0.05559996, 0.013575055, 0.001238789, -0.012703826, -0.03596105, -0.04938766, 0.012840443, -0.024864934, -0.020305406, -0.04950192, -0.0068233674, -0.0030030597, 0.00021488687, 0.009077017, -0.061689775, 0.020063864, -0.0407702, -0.010600936, -0.105555914, -0.026397409, -0.039371137, 0.106510654, -0.033120945, -0.054003056, -0.01175733, 0.03745866, -0.028885433, 0.08967864, -0.04809001, -0.052880947, 0.012537232, -0.04276611, -0.0030630305, -0.06401076, -0.037834175, -0.067914024, 0.041173358, 0.030031417, -0.013418525, 0.033666283, -0.060511004, -0.032413315, 0.025541648, -0.04442814, -0.017154824, 0.001303986, 0.04039161, 0.05365153, -0.04779787, -0.039636724, -9.013998e-06, -0.12384331, 0.03311294, 0.003917781, -0.023768544, -0.0071882233, 0.027966168, 0.018007211, 0.03369897, -0.022149503, -0.0050420365, 0.049079176, 0.0040768106, 0.044962607, -0.054210495, 0.0039839633, 0.00346212, 0.012745719, 0.0005209149, 0.030003723, -0.009130516, -0.05469287, 0.06560087, 0.00156044, 0.024654295, -0.0011266541, 0.063434556, -0.021646647, 0.03348346, 0.0043063327, 0.040486947, -0.032455336, -0.005589289, 0.042656947, 0.026938355, -0.00068841357, 0.05076508, -0.009550301, 0.0954779, 0.010490902, 0.00037024927, 0.018411081, -0.020694345, 0.061477073, -0.064332254, -0.026981242, 0.06704808, -0.018966695, 0.008194131, 0.004129298, -0.00876159, -0.039989196, 0.046398968, 0.0065847854, -0.061954293, -0.027431192, 0.0015669107, 0.00253977, -0.050793372, 0.046564836, -0.045583624, 0.026878586, 0.008145014, -0.014396566, -0.028076986, -0.058715966, -0.024589956, -0.04674262, 0.008318054, 0.012218866, 0.008073568, 0.036086425, 0.0024113713, -0.0075861607, -0.05697931, -0.029668018, 0.020305075, 0.020898758, -0.018116035, 0.024835292, -0.046373513, -0.027395971, 0.040458944, 0.000308061, 0.014550425, -0.016906088, -0.027971825, -0.025695436, 0.033189252, -0.007679328, -0.012318728, -0.011330629, -0.0382487, 0.06128057, -0.02468759, 0.03509289, 0.041001588, 0.044456407, -0.009316942, 0.00055535545, -0.005663235, -0.06324272, 0.027099565, -0.03354663, 0.001960275, 0.046855133, -0.04413557, 0.026558163, -0.018482136, 0.08884518, -0.005964737, -0.0029496849, -0.013615828, -0.021743644, 0.044385396, 0.059085887, -0.034982096, -0.01784272, 0.0019708676, -0.017951861, 0.02766266, -0.0076007703, 0.03371372, -0.02399206, -0.032321155, -0.015791876, -0.011901291, 0.0022524726, -0.0077272872, 0.018695453, -0.017627262, 0.022475636, 0.0058554425, -0.012155507, -0.060691766, -0.07524913, 0.041917548, 0.08091391, -0.0036714105, -0.0029578635, -0.049998008, 0.017608179, -0.064220674, -0.03772874, 0.035647128, -0.040716123, 0.024834078, -0.010802506, 0.005180161, 0.01235433, -0.03047384, -0.029513948, -0.042876434, -0.0050189397, 0.0068056206, 0.048538983, -0.049489375, -0.024849895, -0.047318123, -0.0031011547, 0.013776632, -0.009545827, 0.015432036, -0.008870682, -0.011959881, -0.002014207, 0.048680384, -0.03660424, 0.035990674, 0.034753405, 0.005622074, -0.052305393, -0.014107718, 0.018587243, -0.0393973, 0.029386548, -0.039900236, -0.027601304, -0.111923225, -0.039601382, 0.03592007, 0.0037799648, 0.013380529, 0.022174548, -0.00030054332, -0.025848657, -0.027270062, -0.028843723, 0.07006282, 0.045490272, 0.026713138, -0.015814336, -0.0030624685, 0.016942065, 0.006032069, 0.025072386, -0.058628585, 0.023100303, 0.033222374, -0.03999435, 0.023146214, 0.013652782, -0.0037612645, -0.0054726982, 0.011335272, -0.033295143, -0.09565162, 0.025079101, -0.03847853, 0.023367042, 0.021651613, -0.014658485, -0.0062075243, -0.026220977, 0.031724323, -0.022101684, 0.07702902, 0.018636122, 0.042184312, -0.018669898, -0.008061889, -0.014029197, 0.07466752, -0.02955009, -0.0006679687, -0.047796562, -0.05437828, -0.050266955, -0.023626368, -0.048839375, -0.006435761, 0.01711352, 0.034618188, 0.013629485, 0.008138658, -0.051436413, 0.042075317, 0.07293704, -0.06392682, -0.013489779, -0.02791572, 0.022414967, -0.025589785, 0.015319496, -0.030809619, 0.01447907, -0.01610967, -0.007735031, -0.07899265, -0.015549774, 0.041305136, 0.034144327, -0.032601934, 0.06511158, 0.004149588, 0.026036676, 0.043004666, 0.047453705, 0.06025865, -0.03469325, -0.026582938, 0.008365352, -0.028248249, 0.021403946, 0.037520487, 0.048934247, -0.022947488, -0.033794843, 0.0027060944, 0.0076930244, -0.025624381, 0.044659484, 0.033692554, -0.02793163, 0.03128144, 0.028409285, 0.013893566, 0.0587191, 0.01264677, -0.022730168, 0.0035046402, -0.025318898, 0.020664705, 0.044697512, 0.03952238, 0.006609679, -0.00016378927, -0.0006345206, -0.09934647, 0.038147133, 0.03988179, 0.023758575, -0.013068198, -0.015924923, -0.041431945, 0.021933444, 0.0017107719, -0.0029715435, 0.040570337, -0.035486545, 0.028885985, -0.0037618813, 0.011226436, -0.030816209, 0.059427522, -0.005139245, -0.009732597, 0.030490626, 0.004082949, -0.019979961, -0.00023543459, 0.014555764, -0.028679918, 0.017499313, -0.023981262, 0.022141507, -0.05398034, 0.033575624, -0.07849003, 0.04993195, -0.009427839, -0.041294053, -0.040496867, -0.07258506, -0.033390995, -0.038414624, 0.0143626295, -0.04197956, 0.0352472, 0.054997224, 0.019548815, 0.014349407, 0.047379687, 0.015356182, 0.032604765, 0.019238742, 0.011273731, -0.026829584, 0.021202948, -0.023946634, -0.029283889, 0.014497561, 0.010706414, 0.014110556, -0.05290307, 0.018403258, -0.0057893675, 0.031114276, 0.037414514, 0.022562308, -0.0048353234, 0.012027098, 0.0034936997, -0.014503735, -0.0073689283, -0.003182065, 0.010207556, 0.015022132, 0.03273884, 0.019451369, 0.0691297, 0.006188992, -0.0108812, -0.04031364, -0.0015208733, -0.014674333, -0.05871983, -0.0640571, 0.044140343, 0.041757926, 0.009075998, 0.01808876, -0.016940529, -0.015051102, -0.019424602, 0.049046744, 0.07044374, -0.010306487, -0.007948231, 0.013220518, 2.6465445e-05, 0.0028251987, 0.054798577, 0.036549862, 0.032301754, 0.028867943, 0.028181173, -0.018995099, 0.015499427, -0.0013916031, 0.007833421, 0.063491814, -0.040712673, 0.042135928, 0.04889436, -0.037869744, 0.005492959, 0.008116541, 0.04401567, -0.04922912, 0.017958265, -0.03075027, 0.01907201, 0.013747931, -0.029593978, -0.06736215, -0.029160615, 0.06370946, -0.013119371, 0.061629556, -0.048463877, 0.021055747, 0.021353528, 0.04536143, 0.024300901, 0.0071175518, -0.032723226, 0.01851495, 0.02202908, -0.057400394, -0.012811744, 0.058593825, 0.022323191, 0.01066669, -0.026339745, 0.0018011145, 0.020833803, -0.02743777, 0.023356177, -0.011293544, 0.013751188, -0.004160591, -0.024819192, -2.2774434e-06, -0.053624656, 0.036043808, -0.03368911, -0.029728673, -0.023885194, 0.019019712, -0.038346764, 0.013237483, -0.05362653, 0.021048447, 0.034722976, 0.010638853, 0.0025681413, -0.030979076, 0.07225635, 0.0619629, -0.021492573, 0.0132409595, 0.048952036, 0.022961222, -0.011541939, -0.01900635, 0.010424959, 0.037283543, -0.041186266, 0.017755257, 0.10000616, 0.03213984, 0.031580143, 0.019975966, -0.040221117, -0.007925221, 0.075469084, 0.037988577, 0.02558703, 0.14797002, -0.028050518, -0.03202466, -0.024206461, -0.01983248, -0.017151153, -0.00017778303, -0.031774297, -0.019961726, -0.026123432, -0.033955723, -0.011921979, 0.005170286, -0.028533783, -0.0058424207, -0.00087532564, -0.04074099, -0.037373465, 0.0047263945, 0.00085772795, -0.032553464, 0.03740966, -0.0035052, 0.025247328, 0.015918419, -0.017603632, 0.041206714, 0.035439838, -0.030542105, -0.05209636, 0.011122078, -0.06061735, 0.00072383956, -0.04043363, -0.0056706876, 0.00023148854, 0.057544686, -0.019672478, 0.00640898, -0.008173214, -0.0473109, 0.010585493, -0.0023807788, -0.030086182, 0.027653644, -0.08176382, 0.03235927, 0.054688476, -0.063464746, -0.10380979, -0.055303104, -0.014771896, -0.047561675, -0.010051676, 0.01525307, 0.0516516, 0.01836087, -0.006066403, -0.08529691, 0.04078569, -0.012896075, -0.054978028, 0.01941259, 0.03702885, 0.0025588202, 0.009750224, 0.013780271, -0.021880232, -0.010631104, 0.03960466, 0.040049702, -0.07403214, 0.09679282, 0.02870171, -0.009917359, 0.045992702, -0.03983009, -0.03386814, 0.01891819, 0.02057844, 0.02664822, -0.0070642494, 0.01612409, -0.0053125587, -0.020956308, 0.04633814, 0.00031521294, -0.037571687, 0.0030011015, -0.013040593, -0.010125168, -0.039153073, 0.023396574, 0.010652017, -4.630578e-05, -0.0349158, -0.013453667, 0.00228823, -0.05606348, -0.018049216, 0.017402008, -0.04127428, 0.024808612, -0.009412936, -0.008226945, -0.013730995, 0.06311101, 0.015869884, -0.018727846, -0.05340204, -0.022624137, 0.016517444, -0.01962535, -0.013859318, 0.017308159, -0.013098822, -0.028822178, 0.0064073494, -0.020089185, -0.010036353, 0.033454146, 0.0059876135, -0.057743717, -0.0054657054, 0.029695883, -0.034067426, -0.024461245, -0.011419234, 0.006523578, 0.0021712426, 0.037350968, -0.045175437, -0.032242484, 0.022686517, -0.029285256, -0.023157716, -0.028737305, 0.04058043, 0.002650141, 0.05707802, -0.06806077, -0.026335215, -0.041591056, 0.02974924, -0.023605406, -0.010937222, -0.09128651, 0.04084273, -0.013044986, 0.021743793, 0.00041961827, 0.0056920284, -0.07456925, 0.0123198815, -0.03273379, 0.06009565, 0.010911966, -0.025943771, -0.04834857, 0.009339076, -0.04696698, 0.02666769, -0.013921434, 0.026609765, 0.034508787, -0.024067346, 0.041555103, 0.05768085, -0.015810713, -0.00046540375, -0.003391204, 0.01777529, -0.019997397, 0.017389031, 0.04150253, -0.0076275542, -0.041288204, 0.07064797, -0.047303807, -0.033881493, -0.028043652, -0.008238418, 0.026752222, 0.031531125, -0.013493336, -0.00037985147, -0.027882118, -0.01831856, 0.0057559973, 0.05594042, -0.033563897, -0.010328275, 0.018707328, 0.017195622, -0.00080151606, 0.049064063, -0.003376607, -0.012362469, -0.028676497, 0.01279335, 0.01682407, 0.038405683, 0.05023798, 0.013785595, 0.053017676, 0.06352793, 0.024790928, 0.048524372, 0.01862681, -0.052663617, 0.11108332, -0.036617078]\n"
     ]
    }
   ],
   "source": [
    "print(query_embedding.embeddings[0].values)"
   ]
  },
  {
   "cell_type": "code",
   "execution_count": 11,
   "id": "90872d71",
   "metadata": {
    "execution": {
     "iopub.execute_input": "2025-04-07T20:11:33.975628Z",
     "iopub.status.busy": "2025-04-07T20:11:33.975144Z",
     "iopub.status.idle": "2025-04-07T20:11:33.989054Z",
     "shell.execute_reply": "2025-04-07T20:11:33.987708Z"
    },
    "papermill": {
     "duration": 0.022487,
     "end_time": "2025-04-07T20:11:33.990660",
     "exception": false,
     "start_time": "2025-04-07T20:11:33.968173",
     "status": "completed"
    },
    "tags": []
   },
   "outputs": [
    {
     "name": "stdout",
     "output_type": "stream",
     "text": [
      "ID: doc_984\n",
      "Document: PAPER TITLE: Architecture for Pseudo Acausal Evolvable Embedded Systems\n",
      "PAPER CONTENT:   Advances in semiconductor technology are contributing to the increasing complexity in the design of embedded systems. Architectures with novel techniques such as evolvable nature and autonomous behavior have engrossed lot of attention. This paper demonstrates conceptually evolvable embedded systems can be characterized basing on acausal nature. It is noted that in acausal systems, future input needs to be known, here we make a mechanism such that the system predicts the future inputs and exhibits pseudo acausal nature. An embedded system that uses theoretical framework of acausality is proposed. Our method aims at a novel architecture that features the hardware evolability and autonomous behavior alongside pseudo acausality. Various aspects of this architecture are discussed in detail along with the limitations. \n",
      "\n",
      "ID: doc_303\n",
      "Document: PAPER TITLE: The World as Evolving Information\n",
      "PAPER CONTENT:   This paper discusses the benefits of describing the world as information, especially in the study of the evolution of life and cognition. Traditional studies encounter problems because it is difficult to describe life and cognition in terms of matter and energy, since their laws are valid only at the physical scale. However, if matter and energy, as well as life and cognition, are described in terms of information, evolution can be described consistently as information becoming more complex.   The paper presents eight tentative laws of information, valid at multiple scales, which are generalizations of Darwinian, cybernetic, thermodynamic, psychological, philosophical, and complexity principles. These are further used to discuss the notions of life, cognition and their evolution. \n",
      "\n",
      "ID: doc_890\n",
      "Document: PAPER TITLE: Reactor Monitoring with Neutrinos\n",
      "PAPER CONTENT:   The fundamental knowledge on neutrinos acquired in the recent years open the possibility of applied neutrino physics. Among it the automatic and non intrusive monitoring of nuclear reactor by its antineutrino signal could be very valuable to IAEA in charge of the control of nuclear power plants. Several efforts worldwide have already started. \n",
      "\n",
      "ID: doc_397\n",
      "Document: PAPER TITLE: Renewals for exponentially increasing lifetimes, with an application to   digital search trees\n",
      "PAPER CONTENT:   We show that the number of renewals up to time $t$ exhibits distributional fluctuations as $t\\to\\infty$ if the underlying lifetimes increase at an exponential rate in a distributional sense. This provides a probabilistic explanation for the asymptotics of insertion depth in random trees generated by a bit-comparison strategy from uniform input; we also obtain a representation for the resulting family of limit laws along subsequences. Our approach can also be used to obtain rates of convergence. \n",
      "\n",
      "ID: doc_57\n",
      "Document: PAPER TITLE: Intelligent Life in Cosmology\n",
      "PAPER CONTENT:   I shall present three arguments for the proposition that intelligent life is very rare in the universe. First, I shall summarize the consensus opinion of the founders of the Modern Synthesis (Simpson, Dobzhanski, and Mayr) that the evolution of intelligent life is exceedingly improbable. Second, I shall develop the Fermi Paradox: if they existed they'd be here. Third, I shall show that if intelligent life were too common, it would use up all available resources and die out. But I shall show that the quantum mechanical principle of unitarity (actually a form of teleology!) requires intelligent life to survive to the end of time. Finally, I shall argue that, if the universe is indeed accelerating, then survival to the end of time requires that intelligent life, though rare, to have evolved several times in the visible universe. I shall argue that the acceleration is a consequence of the excess of matter over antimatter in the universe. I shall suggest experiments to test these claims. \n",
      "\n"
     ]
    }
   ],
   "source": [
    "results = collection.query(\n",
    "    query_embeddings=[query_embedding.embeddings[0].values],\n",
    "    n_results=5  # Number of similar docs to return\n",
    ")\n",
    "\n",
    "for doc, doc_id in zip(results[\"documents\"][0], results[\"ids\"][0]):\n",
    "    print(f\"ID: {doc_id}\")\n",
    "    print(f\"Document: {doc}\\n\")"
   ]
  }
 ],
 "metadata": {
  "kaggle": {
   "accelerator": "none",
   "dataSources": [
    {
     "datasetId": 612177,
     "sourceId": 11291024,
     "sourceType": "datasetVersion"
    }
   ],
   "dockerImageVersionId": 30918,
   "isGpuEnabled": false,
   "isInternetEnabled": true,
   "language": "python",
   "sourceType": "notebook"
  },
  "kernelspec": {
   "display_name": "Python 3",
   "language": "python",
   "name": "python3"
  },
  "language_info": {
   "codemirror_mode": {
    "name": "ipython",
    "version": 3
   },
   "file_extension": ".py",
   "mimetype": "text/x-python",
   "name": "python",
   "nbconvert_exporter": "python",
   "pygments_lexer": "ipython3",
   "version": "3.10.12"
  },
  "papermill": {
   "default_parameters": {},
   "duration": 139.331867,
   "end_time": "2025-04-07T20:11:35.420424",
   "environment_variables": {},
   "exception": null,
   "input_path": "__notebook__.ipynb",
   "output_path": "__notebook__.ipynb",
   "parameters": {},
   "start_time": "2025-04-07T20:09:16.088557",
   "version": "2.6.0"
  }
 },
 "nbformat": 4,
 "nbformat_minor": 5
}
